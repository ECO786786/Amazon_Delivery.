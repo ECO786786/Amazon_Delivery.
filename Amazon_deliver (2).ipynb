{
 "cells": [
  {
   "cell_type": "code",
   "execution_count": 2,
   "id": "04e9f3fe",
   "metadata": {},
   "outputs": [
    {
     "ename": "NameError",
     "evalue": "name 'Image' is not defined",
     "output_type": "error",
     "traceback": [
      "\u001b[0;31m---------------------------------------------------------------------------\u001b[0m",
      "\u001b[0;31mNameError\u001b[0m                                 Traceback (most recent call last)",
      "\u001b[0;32m/var/folders/fy/qcplw0t52cs9fm0p5s5wg_b80000gn/T/ipykernel_46660/208677713.py\u001b[0m in \u001b[0;36m<module>\u001b[0;34m\u001b[0m\n\u001b[1;32m      2\u001b[0m \u001b[0;34m\u001b[0m\u001b[0m\n\u001b[1;32m      3\u001b[0m \u001b[0;31m# Display the image\u001b[0m\u001b[0;34m\u001b[0m\u001b[0;34m\u001b[0m\u001b[0m\n\u001b[0;32m----> 4\u001b[0;31m \u001b[0mdisplay\u001b[0m\u001b[0;34m(\u001b[0m\u001b[0mImage\u001b[0m\u001b[0;34m(\u001b[0m\u001b[0mfilename\u001b[0m\u001b[0;34m=\u001b[0m\u001b[0;34m'delivery.png'\u001b[0m\u001b[0;34m)\u001b[0m\u001b[0;34m)\u001b[0m\u001b[0;34m\u001b[0m\u001b[0;34m\u001b[0m\u001b[0m\n\u001b[0m",
      "\u001b[0;31mNameError\u001b[0m: name 'Image' is not defined"
     ]
    }
   ],
   "source": [
    "# from IPython.display import Image, display\n",
    "\n",
    "# Display the image\n",
    "display(Image(filename='delivery.png'))\n"
   ]
  },
  {
   "cell_type": "markdown",
   "id": "06189270",
   "metadata": {},
   "source": [
    "# Amazon Delivery Analysis\n",
    "\n",
    "This notebook explores and analyzes delivery time data with the goal of improving delivery efficiency. The data includes information on orders, agents, locations, times, and external factors such as weather and traffic conditions.\n"
   ]
  },
  {
   "cell_type": "markdown",
   "id": "b1174aa6",
   "metadata": {},
   "source": [
    "## Business Problem\n",
    "\n",
    "In the competitive world of e-commerce, timely delivery is crucial for customer satisfaction and retention. This project aims to analyze delivery times and identify key factors contributing to delays. By understanding these factors, the company can make informed decisions to enhance delivery efficiency and improve overall customer satisfaction.\n",
    "The source of the data set is from https://www.kaggle.com/datasets/sujalsuthar/amazon-delivery-dataset"
   ]
  },
  {
   "cell_type": "markdown",
   "id": "3321fe93",
   "metadata": {},
   "source": [
    "## Data Overview\n",
    "\n",
    "The dataset contains information on approximately 43,739 delivery orders. It includes the following 16 columns:\n",
    "- `Order ID`: Unique identifier for each order\n",
    "- `Agent Age`: Age of the delivery agent\n",
    "- `Agent Rating`: Performance rating of the delivery agent\n",
    "- `Store Latitude/Longitude`: Geographic location of the store\n",
    "- `Drop Latitude/Longitude`: Geographic location of the delivery destination\n",
    "- `Order Time`: Timestamp of when the order was placed\n",
    "- `Pickup Time`: Timestamp of when the order was picked up\n",
    "- `Delivery Time`: Timestamp of when the order was delivered\n",
    "- `Weather`: Weather conditions during delivery\n",
    "- `Traffic`: Traffic conditions during delivery\n",
    "- `Vehicle`: Type of vehicle used for delivery\n",
    "- `Area`: Urban or rural area designation\n",
    "- `Category`: Type of items in the order (e.g., electronics, groceries)\n",
    "\n",
    "The data will be analyzed to uncover patterns and insights that could help reduce delivery times and improve operational efficiency.\n"
   ]
  },
  {
   "cell_type": "code",
   "execution_count": 3,
   "id": "2c302640",
   "metadata": {},
   "outputs": [
    {
     "name": "stdout",
     "output_type": "stream",
     "text": [
      "Requirement already satisfied: matplotlib in /Users/emmacollins/opt/anaconda3/lib/python3.9/site-packages (3.4.3)\n",
      "Requirement already satisfied: seaborn in /Users/emmacollins/opt/anaconda3/lib/python3.9/site-packages (0.11.2)\n",
      "Requirement already satisfied: python-dateutil>=2.7 in /Users/emmacollins/opt/anaconda3/lib/python3.9/site-packages (from matplotlib) (2.8.2)\n",
      "Requirement already satisfied: numpy>=1.16 in /Users/emmacollins/opt/anaconda3/lib/python3.9/site-packages (from matplotlib) (1.20.3)\n",
      "Requirement already satisfied: pyparsing>=2.2.1 in /Users/emmacollins/opt/anaconda3/lib/python3.9/site-packages (from matplotlib) (3.0.4)\n",
      "Requirement already satisfied: cycler>=0.10 in /Users/emmacollins/opt/anaconda3/lib/python3.9/site-packages (from matplotlib) (0.10.0)\n",
      "Requirement already satisfied: pillow>=6.2.0 in /Users/emmacollins/opt/anaconda3/lib/python3.9/site-packages (from matplotlib) (8.4.0)\n",
      "Requirement already satisfied: kiwisolver>=1.0.1 in /Users/emmacollins/opt/anaconda3/lib/python3.9/site-packages (from matplotlib) (1.3.1)\n",
      "Requirement already satisfied: scipy>=1.0 in /Users/emmacollins/opt/anaconda3/lib/python3.9/site-packages (from seaborn) (1.7.1)\n",
      "Requirement already satisfied: pandas>=0.23 in /Users/emmacollins/opt/anaconda3/lib/python3.9/site-packages (from seaborn) (1.3.4)\n",
      "Requirement already satisfied: six in /Users/emmacollins/opt/anaconda3/lib/python3.9/site-packages (from cycler>=0.10->matplotlib) (1.16.0)\n",
      "Requirement already satisfied: pytz>=2017.3 in /Users/emmacollins/opt/anaconda3/lib/python3.9/site-packages (from pandas>=0.23->seaborn) (2021.3)\n"
     ]
    }
   ],
   "source": [
    "!pip install matplotlib seaborn\n"
   ]
  },
  {
   "cell_type": "code",
   "execution_count": 4,
   "id": "a1c9f1fb",
   "metadata": {},
   "outputs": [
    {
     "name": "stdout",
     "output_type": "stream",
     "text": [
      "Collecting importlib_resources\n",
      "  Downloading importlib_resources-6.4.4-py3-none-any.whl (35 kB)\n",
      "Requirement already satisfied: zipp>=3.1.0 in /Users/emmacollins/opt/anaconda3/lib/python3.9/site-packages (from importlib_resources) (3.6.0)\n",
      "Installing collected packages: importlib-resources\n",
      "Successfully installed importlib-resources-6.4.4\n"
     ]
    }
   ],
   "source": [
    "!pip install importlib_resources\n"
   ]
  },
  {
   "cell_type": "code",
   "execution_count": 5,
   "id": "4f35e6c0",
   "metadata": {},
   "outputs": [
    {
     "name": "stdout",
     "output_type": "stream",
     "text": [
      "Requirement already satisfied: scikit-learn in /Users/emmacollins/opt/anaconda3/lib/python3.9/site-packages (0.24.2)\n",
      "Requirement already satisfied: scipy>=0.19.1 in /Users/emmacollins/opt/anaconda3/lib/python3.9/site-packages (from scikit-learn) (1.7.1)\n",
      "Requirement already satisfied: numpy>=1.13.3 in /Users/emmacollins/opt/anaconda3/lib/python3.9/site-packages (from scikit-learn) (1.20.3)\n",
      "Requirement already satisfied: threadpoolctl>=2.0.0 in /Users/emmacollins/opt/anaconda3/lib/python3.9/site-packages (from scikit-learn) (2.2.0)\n",
      "Requirement already satisfied: joblib>=0.11 in /Users/emmacollins/opt/anaconda3/lib/python3.9/site-packages (from scikit-learn) (1.1.0)\n"
     ]
    }
   ],
   "source": [
    "!pip install scikit-learn\n"
   ]
  },
  {
   "cell_type": "code",
   "execution_count": 6,
   "id": "7bfd45d4",
   "metadata": {},
   "outputs": [],
   "source": [
    "#Importing Pandas and numpy Librbary \n",
    "\n",
    "import pandas as pd\n",
    "import numpy as np\n",
    "import seaborn as sns\n",
    "import matplotlib.pyplot as plt\n",
    "import matplotlib.cm as cm\n",
    "import matplotlib as mpl\n",
    "from sklearn.model_selection import GridSearchCV\n",
    "from sklearn.neighbors import KNeighborsRegressor\n",
    "from sklearn.model_selection import train_test_split\n",
    "from sklearn.pipeline import Pipeline\n",
    "from sklearn.metrics import mean_squared_error\n",
    "from pandas.plotting import scatter_matrix\n",
    "from sklearn.impute import SimpleImputer\n",
    "from sklearn.preprocessing import MinMaxScaler\n",
    "from sklearn.compose import ColumnTransformer\n",
    "from sklearn.preprocessing import OneHotEncoder\n",
    "from sklearn.preprocessing import StandardScaler\n",
    "from sklearn.linear_model import LinearRegression\n",
    "from sklearn.linear_model import Ridge\n",
    "from sklearn.metrics import accuracy_score"
   ]
  },
  {
   "cell_type": "code",
   "execution_count": 9,
   "id": "6e48181e",
   "metadata": {},
   "outputs": [],
   "source": [
    "# Importing the data\n",
    "\n",
    "df = pd.read_csv('amazon_delivery.csv')"
   ]
  },
  {
   "cell_type": "code",
   "execution_count": 10,
   "id": "5e7644a2",
   "metadata": {},
   "outputs": [
    {
     "data": {
      "text/plain": [
       "(43739, 16)"
      ]
     },
     "execution_count": 10,
     "metadata": {},
     "output_type": "execute_result"
    }
   ],
   "source": [
    "# understanging the Data framework = 43,739 Rows and 16 colummns\n",
    "df.shape"
   ]
  },
  {
   "cell_type": "code",
   "execution_count": 11,
   "id": "37732c95",
   "metadata": {
    "scrolled": true
   },
   "outputs": [
    {
     "data": {
      "text/html": [
       "<div>\n",
       "<style scoped>\n",
       "    .dataframe tbody tr th:only-of-type {\n",
       "        vertical-align: middle;\n",
       "    }\n",
       "\n",
       "    .dataframe tbody tr th {\n",
       "        vertical-align: top;\n",
       "    }\n",
       "\n",
       "    .dataframe thead th {\n",
       "        text-align: right;\n",
       "    }\n",
       "</style>\n",
       "<table border=\"1\" class=\"dataframe\">\n",
       "  <thead>\n",
       "    <tr style=\"text-align: right;\">\n",
       "      <th></th>\n",
       "      <th>Order_ID</th>\n",
       "      <th>Agent_Age</th>\n",
       "      <th>Agent_Rating</th>\n",
       "      <th>Store_Latitude</th>\n",
       "      <th>Store_Longitude</th>\n",
       "      <th>Drop_Latitude</th>\n",
       "      <th>Drop_Longitude</th>\n",
       "      <th>Order_Date</th>\n",
       "      <th>Order_Time</th>\n",
       "      <th>Pickup_Time</th>\n",
       "      <th>Weather</th>\n",
       "      <th>Traffic</th>\n",
       "      <th>Vehicle</th>\n",
       "      <th>Area</th>\n",
       "      <th>Delivery_Time</th>\n",
       "      <th>Category</th>\n",
       "    </tr>\n",
       "  </thead>\n",
       "  <tbody>\n",
       "    <tr>\n",
       "      <th>0</th>\n",
       "      <td>ialx566343618</td>\n",
       "      <td>37</td>\n",
       "      <td>4.9</td>\n",
       "      <td>22.745049</td>\n",
       "      <td>75.892471</td>\n",
       "      <td>22.765049</td>\n",
       "      <td>75.912471</td>\n",
       "      <td>2022-03-19</td>\n",
       "      <td>11:30:00</td>\n",
       "      <td>11:45:00</td>\n",
       "      <td>Sunny</td>\n",
       "      <td>High</td>\n",
       "      <td>motorcycle</td>\n",
       "      <td>Urban</td>\n",
       "      <td>120</td>\n",
       "      <td>Clothing</td>\n",
       "    </tr>\n",
       "    <tr>\n",
       "      <th>1</th>\n",
       "      <td>akqg208421122</td>\n",
       "      <td>34</td>\n",
       "      <td>4.5</td>\n",
       "      <td>12.913041</td>\n",
       "      <td>77.683237</td>\n",
       "      <td>13.043041</td>\n",
       "      <td>77.813237</td>\n",
       "      <td>2022-03-25</td>\n",
       "      <td>19:45:00</td>\n",
       "      <td>19:50:00</td>\n",
       "      <td>Stormy</td>\n",
       "      <td>Jam</td>\n",
       "      <td>scooter</td>\n",
       "      <td>Metropolitian</td>\n",
       "      <td>165</td>\n",
       "      <td>Electronics</td>\n",
       "    </tr>\n",
       "    <tr>\n",
       "      <th>2</th>\n",
       "      <td>njpu434582536</td>\n",
       "      <td>23</td>\n",
       "      <td>4.4</td>\n",
       "      <td>12.914264</td>\n",
       "      <td>77.678400</td>\n",
       "      <td>12.924264</td>\n",
       "      <td>77.688400</td>\n",
       "      <td>2022-03-19</td>\n",
       "      <td>08:30:00</td>\n",
       "      <td>08:45:00</td>\n",
       "      <td>Sandstorms</td>\n",
       "      <td>Low</td>\n",
       "      <td>motorcycle</td>\n",
       "      <td>Urban</td>\n",
       "      <td>130</td>\n",
       "      <td>Sports</td>\n",
       "    </tr>\n",
       "    <tr>\n",
       "      <th>3</th>\n",
       "      <td>rjto796129700</td>\n",
       "      <td>38</td>\n",
       "      <td>4.7</td>\n",
       "      <td>11.003669</td>\n",
       "      <td>76.976494</td>\n",
       "      <td>11.053669</td>\n",
       "      <td>77.026494</td>\n",
       "      <td>2022-04-05</td>\n",
       "      <td>18:00:00</td>\n",
       "      <td>18:10:00</td>\n",
       "      <td>Sunny</td>\n",
       "      <td>Medium</td>\n",
       "      <td>motorcycle</td>\n",
       "      <td>Metropolitian</td>\n",
       "      <td>105</td>\n",
       "      <td>Cosmetics</td>\n",
       "    </tr>\n",
       "    <tr>\n",
       "      <th>4</th>\n",
       "      <td>zguw716275638</td>\n",
       "      <td>32</td>\n",
       "      <td>4.6</td>\n",
       "      <td>12.972793</td>\n",
       "      <td>80.249982</td>\n",
       "      <td>13.012793</td>\n",
       "      <td>80.289982</td>\n",
       "      <td>2022-03-26</td>\n",
       "      <td>13:30:00</td>\n",
       "      <td>13:45:00</td>\n",
       "      <td>Cloudy</td>\n",
       "      <td>High</td>\n",
       "      <td>scooter</td>\n",
       "      <td>Metropolitian</td>\n",
       "      <td>150</td>\n",
       "      <td>Toys</td>\n",
       "    </tr>\n",
       "    <tr>\n",
       "      <th>5</th>\n",
       "      <td>fxuu788413734</td>\n",
       "      <td>22</td>\n",
       "      <td>4.8</td>\n",
       "      <td>17.431668</td>\n",
       "      <td>78.408321</td>\n",
       "      <td>17.461668</td>\n",
       "      <td>78.438321</td>\n",
       "      <td>2022-03-11</td>\n",
       "      <td>21:20:00</td>\n",
       "      <td>21:30:00</td>\n",
       "      <td>Cloudy</td>\n",
       "      <td>Jam</td>\n",
       "      <td>motorcycle</td>\n",
       "      <td>Urban</td>\n",
       "      <td>130</td>\n",
       "      <td>Toys</td>\n",
       "    </tr>\n",
       "    <tr>\n",
       "      <th>6</th>\n",
       "      <td>njmo150975311</td>\n",
       "      <td>33</td>\n",
       "      <td>4.7</td>\n",
       "      <td>23.369746</td>\n",
       "      <td>85.339820</td>\n",
       "      <td>23.479746</td>\n",
       "      <td>85.449820</td>\n",
       "      <td>2022-03-04</td>\n",
       "      <td>19:15:00</td>\n",
       "      <td>19:30:00</td>\n",
       "      <td>Fog</td>\n",
       "      <td>Jam</td>\n",
       "      <td>scooter</td>\n",
       "      <td>Metropolitian</td>\n",
       "      <td>200</td>\n",
       "      <td>Toys</td>\n",
       "    </tr>\n",
       "    <tr>\n",
       "      <th>7</th>\n",
       "      <td>jvjc772545076</td>\n",
       "      <td>35</td>\n",
       "      <td>4.6</td>\n",
       "      <td>12.352058</td>\n",
       "      <td>76.606650</td>\n",
       "      <td>12.482058</td>\n",
       "      <td>76.736650</td>\n",
       "      <td>2022-03-14</td>\n",
       "      <td>17:25:00</td>\n",
       "      <td>17:30:00</td>\n",
       "      <td>Cloudy</td>\n",
       "      <td>Medium</td>\n",
       "      <td>motorcycle</td>\n",
       "      <td>Metropolitian</td>\n",
       "      <td>160</td>\n",
       "      <td>Snacks</td>\n",
       "    </tr>\n",
       "    <tr>\n",
       "      <th>8</th>\n",
       "      <td>uaeb808891380</td>\n",
       "      <td>22</td>\n",
       "      <td>4.8</td>\n",
       "      <td>17.433809</td>\n",
       "      <td>78.386744</td>\n",
       "      <td>17.563809</td>\n",
       "      <td>78.516744</td>\n",
       "      <td>2022-03-20</td>\n",
       "      <td>20:55:00</td>\n",
       "      <td>21:05:00</td>\n",
       "      <td>Stormy</td>\n",
       "      <td>Jam</td>\n",
       "      <td>motorcycle</td>\n",
       "      <td>Metropolitian</td>\n",
       "      <td>170</td>\n",
       "      <td>Electronics</td>\n",
       "    </tr>\n",
       "    <tr>\n",
       "      <th>9</th>\n",
       "      <td>bgvc052754213</td>\n",
       "      <td>36</td>\n",
       "      <td>4.2</td>\n",
       "      <td>30.327968</td>\n",
       "      <td>78.046106</td>\n",
       "      <td>30.397968</td>\n",
       "      <td>78.116106</td>\n",
       "      <td>2022-02-12</td>\n",
       "      <td>21:55:00</td>\n",
       "      <td>22:10:00</td>\n",
       "      <td>Fog</td>\n",
       "      <td>Jam</td>\n",
       "      <td>motorcycle</td>\n",
       "      <td>Metropolitian</td>\n",
       "      <td>230</td>\n",
       "      <td>Toys</td>\n",
       "    </tr>\n",
       "    <tr>\n",
       "      <th>10</th>\n",
       "      <td>vmau710398846</td>\n",
       "      <td>21</td>\n",
       "      <td>4.7</td>\n",
       "      <td>10.003064</td>\n",
       "      <td>76.307589</td>\n",
       "      <td>10.043064</td>\n",
       "      <td>76.347589</td>\n",
       "      <td>2022-02-13</td>\n",
       "      <td>14:55:00</td>\n",
       "      <td>15:05:00</td>\n",
       "      <td>Stormy</td>\n",
       "      <td>High</td>\n",
       "      <td>motorcycle</td>\n",
       "      <td>Metropolitian</td>\n",
       "      <td>115</td>\n",
       "      <td>Cosmetics</td>\n",
       "    </tr>\n",
       "    <tr>\n",
       "      <th>11</th>\n",
       "      <td>lcwn330553507</td>\n",
       "      <td>23</td>\n",
       "      <td>4.7</td>\n",
       "      <td>18.562450</td>\n",
       "      <td>73.916619</td>\n",
       "      <td>18.652450</td>\n",
       "      <td>74.006619</td>\n",
       "      <td>2022-03-04</td>\n",
       "      <td>17:30:00</td>\n",
       "      <td>17:40:00</td>\n",
       "      <td>Sandstorms</td>\n",
       "      <td>Medium</td>\n",
       "      <td>scooter</td>\n",
       "      <td>Metropolitian</td>\n",
       "      <td>105</td>\n",
       "      <td>Shoes</td>\n",
       "    </tr>\n",
       "    <tr>\n",
       "      <th>12</th>\n",
       "      <td>wcjs752046999</td>\n",
       "      <td>34</td>\n",
       "      <td>4.3</td>\n",
       "      <td>30.899584</td>\n",
       "      <td>75.809346</td>\n",
       "      <td>30.919584</td>\n",
       "      <td>75.829346</td>\n",
       "      <td>2022-02-13</td>\n",
       "      <td>09:20:00</td>\n",
       "      <td>09:30:00</td>\n",
       "      <td>Sandstorms</td>\n",
       "      <td>Low</td>\n",
       "      <td>motorcycle</td>\n",
       "      <td>Metropolitian</td>\n",
       "      <td>100</td>\n",
       "      <td>Apparel</td>\n",
       "    </tr>\n",
       "    <tr>\n",
       "      <th>13</th>\n",
       "      <td>blhl288691670</td>\n",
       "      <td>24</td>\n",
       "      <td>4.7</td>\n",
       "      <td>26.463504</td>\n",
       "      <td>80.372929</td>\n",
       "      <td>26.593504</td>\n",
       "      <td>80.502929</td>\n",
       "      <td>2022-02-14</td>\n",
       "      <td>19:50:00</td>\n",
       "      <td>20:05:00</td>\n",
       "      <td>Fog</td>\n",
       "      <td>Jam</td>\n",
       "      <td>scooter</td>\n",
       "      <td>Metropolitian</td>\n",
       "      <td>205</td>\n",
       "      <td>Jewelry</td>\n",
       "    </tr>\n",
       "    <tr>\n",
       "      <th>14</th>\n",
       "      <td>zyvo118176215</td>\n",
       "      <td>29</td>\n",
       "      <td>4.5</td>\n",
       "      <td>19.176269</td>\n",
       "      <td>72.836721</td>\n",
       "      <td>19.266269</td>\n",
       "      <td>72.926721</td>\n",
       "      <td>2022-04-02</td>\n",
       "      <td>20:25:00</td>\n",
       "      <td>20:35:00</td>\n",
       "      <td>Sandstorms</td>\n",
       "      <td>Jam</td>\n",
       "      <td>van</td>\n",
       "      <td>Metropolitian</td>\n",
       "      <td>100</td>\n",
       "      <td>Outdoors</td>\n",
       "    </tr>\n",
       "    <tr>\n",
       "      <th>15</th>\n",
       "      <td>uhfs888375680</td>\n",
       "      <td>35</td>\n",
       "      <td>4.0</td>\n",
       "      <td>12.311072</td>\n",
       "      <td>76.654878</td>\n",
       "      <td>12.351072</td>\n",
       "      <td>76.694878</td>\n",
       "      <td>2022-03-01</td>\n",
       "      <td>14:55:00</td>\n",
       "      <td>15:10:00</td>\n",
       "      <td>Windy</td>\n",
       "      <td>High</td>\n",
       "      <td>scooter</td>\n",
       "      <td>Metropolitian</td>\n",
       "      <td>33</td>\n",
       "      <td>Grocery</td>\n",
       "    </tr>\n",
       "  </tbody>\n",
       "</table>\n",
       "</div>"
      ],
      "text/plain": [
       "         Order_ID  Agent_Age  Agent_Rating  Store_Latitude  Store_Longitude  \\\n",
       "0   ialx566343618         37           4.9       22.745049        75.892471   \n",
       "1   akqg208421122         34           4.5       12.913041        77.683237   \n",
       "2   njpu434582536         23           4.4       12.914264        77.678400   \n",
       "3   rjto796129700         38           4.7       11.003669        76.976494   \n",
       "4   zguw716275638         32           4.6       12.972793        80.249982   \n",
       "5   fxuu788413734         22           4.8       17.431668        78.408321   \n",
       "6   njmo150975311         33           4.7       23.369746        85.339820   \n",
       "7   jvjc772545076         35           4.6       12.352058        76.606650   \n",
       "8   uaeb808891380         22           4.8       17.433809        78.386744   \n",
       "9   bgvc052754213         36           4.2       30.327968        78.046106   \n",
       "10  vmau710398846         21           4.7       10.003064        76.307589   \n",
       "11  lcwn330553507         23           4.7       18.562450        73.916619   \n",
       "12  wcjs752046999         34           4.3       30.899584        75.809346   \n",
       "13  blhl288691670         24           4.7       26.463504        80.372929   \n",
       "14  zyvo118176215         29           4.5       19.176269        72.836721   \n",
       "15  uhfs888375680         35           4.0       12.311072        76.654878   \n",
       "\n",
       "    Drop_Latitude  Drop_Longitude  Order_Date Order_Time Pickup_Time  \\\n",
       "0       22.765049       75.912471  2022-03-19   11:30:00    11:45:00   \n",
       "1       13.043041       77.813237  2022-03-25   19:45:00    19:50:00   \n",
       "2       12.924264       77.688400  2022-03-19   08:30:00    08:45:00   \n",
       "3       11.053669       77.026494  2022-04-05   18:00:00    18:10:00   \n",
       "4       13.012793       80.289982  2022-03-26   13:30:00    13:45:00   \n",
       "5       17.461668       78.438321  2022-03-11   21:20:00    21:30:00   \n",
       "6       23.479746       85.449820  2022-03-04   19:15:00    19:30:00   \n",
       "7       12.482058       76.736650  2022-03-14   17:25:00    17:30:00   \n",
       "8       17.563809       78.516744  2022-03-20   20:55:00    21:05:00   \n",
       "9       30.397968       78.116106  2022-02-12   21:55:00    22:10:00   \n",
       "10      10.043064       76.347589  2022-02-13   14:55:00    15:05:00   \n",
       "11      18.652450       74.006619  2022-03-04   17:30:00    17:40:00   \n",
       "12      30.919584       75.829346  2022-02-13   09:20:00    09:30:00   \n",
       "13      26.593504       80.502929  2022-02-14   19:50:00    20:05:00   \n",
       "14      19.266269       72.926721  2022-04-02   20:25:00    20:35:00   \n",
       "15      12.351072       76.694878  2022-03-01   14:55:00    15:10:00   \n",
       "\n",
       "       Weather  Traffic      Vehicle            Area  Delivery_Time  \\\n",
       "0        Sunny    High   motorcycle           Urban             120   \n",
       "1       Stormy     Jam      scooter   Metropolitian             165   \n",
       "2   Sandstorms     Low   motorcycle           Urban             130   \n",
       "3        Sunny  Medium   motorcycle   Metropolitian             105   \n",
       "4       Cloudy    High      scooter   Metropolitian             150   \n",
       "5       Cloudy     Jam   motorcycle           Urban             130   \n",
       "6          Fog     Jam      scooter   Metropolitian             200   \n",
       "7       Cloudy  Medium   motorcycle   Metropolitian             160   \n",
       "8       Stormy     Jam   motorcycle   Metropolitian             170   \n",
       "9          Fog     Jam   motorcycle   Metropolitian             230   \n",
       "10      Stormy    High   motorcycle   Metropolitian             115   \n",
       "11  Sandstorms  Medium      scooter   Metropolitian             105   \n",
       "12  Sandstorms     Low   motorcycle   Metropolitian             100   \n",
       "13         Fog     Jam      scooter   Metropolitian             205   \n",
       "14  Sandstorms     Jam           van  Metropolitian             100   \n",
       "15       Windy    High      scooter   Metropolitian              33   \n",
       "\n",
       "       Category  \n",
       "0      Clothing  \n",
       "1   Electronics  \n",
       "2        Sports  \n",
       "3     Cosmetics  \n",
       "4          Toys  \n",
       "5          Toys  \n",
       "6          Toys  \n",
       "7        Snacks  \n",
       "8   Electronics  \n",
       "9          Toys  \n",
       "10    Cosmetics  \n",
       "11        Shoes  \n",
       "12      Apparel  \n",
       "13      Jewelry  \n",
       "14     Outdoors  \n",
       "15      Grocery  "
      ]
     },
     "execution_count": 11,
     "metadata": {},
     "output_type": "execute_result"
    }
   ],
   "source": [
    "# Undertsanding the column_names\n",
    "df.head(16)"
   ]
  },
  {
   "cell_type": "code",
   "execution_count": 12,
   "id": "5bedebfa",
   "metadata": {},
   "outputs": [
    {
     "data": {
      "text/plain": [
       "Index(['Order_ID', 'Agent_Age', 'Agent_Rating', 'Store_Latitude',\n",
       "       'Store_Longitude', 'Drop_Latitude', 'Drop_Longitude', 'Order_Date',\n",
       "       'Order_Time', 'Pickup_Time', 'Weather', 'Traffic', 'Vehicle', 'Area',\n",
       "       'Delivery_Time', 'Category'],\n",
       "      dtype='object')"
      ]
     },
     "execution_count": 12,
     "metadata": {},
     "output_type": "execute_result"
    }
   ],
   "source": [
    "# Data types\n",
    "df.columns"
   ]
  },
  {
   "cell_type": "code",
   "execution_count": 13,
   "id": "0ade1bca",
   "metadata": {},
   "outputs": [
    {
     "data": {
      "text/plain": [
       "Order_ID            0\n",
       "Agent_Age           0\n",
       "Agent_Rating       54\n",
       "Store_Latitude      0\n",
       "Store_Longitude     0\n",
       "Drop_Latitude       0\n",
       "Drop_Longitude      0\n",
       "Order_Date          0\n",
       "Order_Time          0\n",
       "Pickup_Time         0\n",
       "Weather            91\n",
       "Traffic             0\n",
       "Vehicle             0\n",
       "Area                0\n",
       "Delivery_Time       0\n",
       "Category            0\n",
       "dtype: int64"
      ]
     },
     "execution_count": 13,
     "metadata": {},
     "output_type": "execute_result"
    }
   ],
   "source": [
    "# We want a count of Null values in the data set\n",
    "\n",
    "df.isnull().sum()"
   ]
  },
  {
   "cell_type": "code",
   "execution_count": 16,
   "id": "37bf95ae",
   "metadata": {
    "scrolled": true
   },
   "outputs": [
    {
     "name": "stdout",
     "output_type": "stream",
     "text": [
      "            Order_ID  Agent_Age  Agent_Rating  Store_Latitude  \\\n",
      "0      ialx566343618         37           4.9       22.745049   \n",
      "1      akqg208421122         34           4.5       12.913041   \n",
      "2      njpu434582536         23           4.4       12.914264   \n",
      "3      rjto796129700         38           4.7       11.003669   \n",
      "4      zguw716275638         32           4.6       12.972793   \n",
      "...              ...        ...           ...             ...   \n",
      "43734  jlxf819993117         30           4.8       26.902328   \n",
      "43735  aevx342135787         21           4.6        0.000000   \n",
      "43736  xnek760674819         30           4.9       13.022394   \n",
      "43737  cynl434665991         20           4.7       11.001753   \n",
      "43738  nsyz997960170         23           4.9       23.351058   \n",
      "\n",
      "       Store_Longitude  Drop_Latitude  Drop_Longitude  Order_Date Order_Time  \\\n",
      "0            75.892471      22.765049       75.912471  2022-03-19   11:30:00   \n",
      "1            77.683237      13.043041       77.813237  2022-03-25   19:45:00   \n",
      "2            77.678400      12.924264       77.688400  2022-03-19   08:30:00   \n",
      "3            76.976494      11.053669       77.026494  2022-04-05   18:00:00   \n",
      "4            80.249982      13.012793       80.289982  2022-03-26   13:30:00   \n",
      "...                ...            ...             ...         ...        ...   \n",
      "43734        75.794257      26.912328       75.804257  2022-03-24   11:35:00   \n",
      "43735         0.000000       0.070000        0.070000  2022-02-16   19:55:00   \n",
      "43736        80.242439      13.052394       80.272439  2022-03-11   23:50:00   \n",
      "43737        76.986241      11.041753       77.026241  2022-03-07   13:35:00   \n",
      "43738        85.325731      23.431058       85.405731  2022-03-02   17:10:00   \n",
      "\n",
      "      Pickup_Time     Weather  Traffic      Vehicle            Area  \\\n",
      "0        11:45:00       Sunny    High   motorcycle           Urban    \n",
      "1        19:50:00      Stormy     Jam      scooter   Metropolitian    \n",
      "2        08:45:00  Sandstorms     Low   motorcycle           Urban    \n",
      "3        18:10:00       Sunny  Medium   motorcycle   Metropolitian    \n",
      "4        13:45:00      Cloudy    High      scooter   Metropolitian    \n",
      "...           ...         ...      ...          ...             ...   \n",
      "43734    11:45:00       Windy    High   motorcycle   Metropolitian    \n",
      "43735    20:10:00       Windy     Jam   motorcycle   Metropolitian    \n",
      "43736    00:05:00      Cloudy     Low      scooter   Metropolitian    \n",
      "43737    13:40:00      Cloudy    High   motorcycle   Metropolitian    \n",
      "43738    17:15:00         Fog  Medium      scooter   Metropolitian    \n",
      "\n",
      "       Delivery_Time     Category  Delivery_Time_Minutes  \\\n",
      "0                120     Clothing                      2   \n",
      "1                165  Electronics                      2   \n",
      "2                130       Sports                      2   \n",
      "3                105    Cosmetics                      1   \n",
      "4                150         Toys                      2   \n",
      "...              ...          ...                    ...   \n",
      "43734            160         Home                      2   \n",
      "43735            180      Jewelry                      3   \n",
      "43736             80         Home                      1   \n",
      "43737            130      Kitchen                      2   \n",
      "43738            180    Cosmetics                      3   \n",
      "\n",
      "       Delivery_Time_Seconds Delivery_Time_Formatted  \n",
      "0                          0                    2:00  \n",
      "1                         45                    2:45  \n",
      "2                         10                    2:10  \n",
      "3                         45                    1:45  \n",
      "4                         30                    2:30  \n",
      "...                      ...                     ...  \n",
      "43734                     40                    2:40  \n",
      "43735                      0                    3:00  \n",
      "43736                     20                    1:20  \n",
      "43737                     10                    2:10  \n",
      "43738                      0                    3:00  \n",
      "\n",
      "[43594 rows x 19 columns]\n"
     ]
    }
   ],
   "source": [
    "# Convert Order_Time and Pickup_Time to datetime, then to time only\n",
    "df['Order_Time'] = pd.to_datetime(df['Order_Time'], format='%H:%M:%S', errors='coerce').dt.time\n",
    "df['Pickup_Time'] = pd.to_datetime(df['Pickup_Time'], format='%H:%M:%S', errors='coerce').dt.time\n",
    "\n",
    "# Convert Delivery_Time from seconds to minutes and seconds\n",
    "df['Delivery_Time_Minutes'] = df['Delivery_Time'] // 60\n",
    "df['Delivery_Time_Seconds'] = df['Delivery_Time'] % 60\n",
    "\n",
    "# Create a combined Delivery_Time column in the format MM:SS\n",
    "df['Delivery_Time_Formatted'] = df['Delivery_Time_Minutes'].astype(str) + ':' + df['Delivery_Time_Seconds'].astype(str).str.zfill(2)\n",
    "\n",
    "# Drop rows where any column has NaN or NaT values\n",
    "df_cleaned = df.dropna()\n",
    "\n",
    "# Display the cleaned DataFrame\n",
    "print(df_cleaned)\n"
   ]
  },
  {
   "cell_type": "code",
   "execution_count": 17,
   "id": "81fdecc0",
   "metadata": {},
   "outputs": [
    {
     "data": {
      "text/plain": [
       "Order_ID                   0\n",
       "Agent_Age                  0\n",
       "Agent_Rating               0\n",
       "Store_Latitude             0\n",
       "Store_Longitude            0\n",
       "Drop_Latitude              0\n",
       "Drop_Longitude             0\n",
       "Order_Date                 0\n",
       "Order_Time                 0\n",
       "Pickup_Time                0\n",
       "Weather                    0\n",
       "Traffic                    0\n",
       "Vehicle                    0\n",
       "Area                       0\n",
       "Delivery_Time              0\n",
       "Category                   0\n",
       "Delivery_Time_Minutes      0\n",
       "Delivery_Time_Seconds      0\n",
       "Delivery_Time_Formatted    0\n",
       "dtype: int64"
      ]
     },
     "execution_count": 17,
     "metadata": {},
     "output_type": "execute_result"
    }
   ],
   "source": [
    "# We want a count of Null values in the data set after amendments\n",
    "\n",
    "df_cleaned.isna().sum()"
   ]
  },
  {
   "cell_type": "code",
   "execution_count": 18,
   "id": "4e2563c4",
   "metadata": {},
   "outputs": [
    {
     "name": "stdout",
     "output_type": "stream",
     "text": [
      "      Order_Time Pickup_Time Time_Difference  Time_Difference_Minutes\n",
      "0       11:30:00    11:45:00 0 days 00:15:00                     15.0\n",
      "21876   21:50:00    22:05:00 0 days 00:15:00                     15.0\n",
      "21893   23:20:00    23:35:00 0 days 00:15:00                     15.0\n",
      "21889   19:25:00    19:40:00 0 days 00:15:00                     15.0\n",
      "21884   20:30:00    20:45:00 0 days 00:15:00                     15.0\n",
      "21883   22:45:00    23:00:00 0 days 00:15:00                     15.0\n",
      "21882   23:35:00    23:50:00 0 days 00:15:00                     15.0\n",
      "21881   15:30:00    15:45:00 0 days 00:15:00                     15.0\n",
      "21879   22:45:00    23:00:00 0 days 00:15:00                     15.0\n",
      "21877   22:55:00    23:10:00 0 days 00:15:00                     15.0\n"
     ]
    }
   ],
   "source": [
    "\n",
    "# Convert Order_Time and Pickup_Time to datetime format\n",
    "df['Order_Time'] = pd.to_datetime(df['Order_Time'], format='%H:%M:%S')\n",
    "df['Pickup_Time'] = pd.to_datetime(df['Pickup_Time'], format='%H:%M:%S')\n",
    "\n",
    "# Handle midnight crossing\n",
    "df['Time_Difference'] = df['Pickup_Time'] - df['Order_Time']\n",
    "\n",
    "# Add 1 day to the pickup time if the difference is negative (i.e., crossing midnight)\n",
    "df.loc[df['Time_Difference'] < pd.Timedelta(0), 'Time_Difference'] += pd.Timedelta(days=1)\n",
    "\n",
    "# Convert the Time_Difference to minutes\n",
    "df['Time_Difference_Minutes'] = df['Time_Difference'].dt.total_seconds() / 60\n",
    "\n",
    "# Convert Order_Time and Pickup_Time back to string format to remove the year, showing only the time\n",
    "df['Order_Time'] = df['Order_Time'].dt.strftime('%H:%M:%S')\n",
    "df['Pickup_Time'] = df['Pickup_Time'].dt.strftime('%H:%M:%S')\n",
    "\n",
    "# Sort by Time_Difference_Minutes in descending order\n",
    "df_sorted = df.sort_values(by='Time_Difference_Minutes', ascending=False)\n",
    "\n",
    "top_rows = df_sorted[['Order_Time', 'Pickup_Time', 'Time_Difference', 'Time_Difference_Minutes']].head(10)\n",
    "print(top_rows)\n",
    "\n"
   ]
  },
  {
   "cell_type": "code",
   "execution_count": 19,
   "id": "a183c374",
   "metadata": {
    "scrolled": true
   },
   "outputs": [
    {
     "data": {
      "text/html": [
       "<div>\n",
       "<style scoped>\n",
       "    .dataframe tbody tr th:only-of-type {\n",
       "        vertical-align: middle;\n",
       "    }\n",
       "\n",
       "    .dataframe tbody tr th {\n",
       "        vertical-align: top;\n",
       "    }\n",
       "\n",
       "    .dataframe thead th {\n",
       "        text-align: right;\n",
       "    }\n",
       "</style>\n",
       "<table border=\"1\" class=\"dataframe\">\n",
       "  <thead>\n",
       "    <tr style=\"text-align: right;\">\n",
       "      <th></th>\n",
       "      <th>Agent_Age</th>\n",
       "      <th>Agent_Rating</th>\n",
       "      <th>Store_Latitude</th>\n",
       "      <th>Store_Longitude</th>\n",
       "      <th>Drop_Latitude</th>\n",
       "      <th>Drop_Longitude</th>\n",
       "      <th>Delivery_Time</th>\n",
       "      <th>Delivery_Time_Minutes</th>\n",
       "      <th>Delivery_Time_Seconds</th>\n",
       "    </tr>\n",
       "  </thead>\n",
       "  <tbody>\n",
       "    <tr>\n",
       "      <th>count</th>\n",
       "      <td>43594.000000</td>\n",
       "      <td>43594.000000</td>\n",
       "      <td>43594.000000</td>\n",
       "      <td>43594.000000</td>\n",
       "      <td>43594.000000</td>\n",
       "      <td>43594.000000</td>\n",
       "      <td>43594.000000</td>\n",
       "      <td>43594.000000</td>\n",
       "      <td>43594.000000</td>\n",
       "    </tr>\n",
       "    <tr>\n",
       "      <th>mean</th>\n",
       "      <td>29.555719</td>\n",
       "      <td>4.635287</td>\n",
       "      <td>17.244769</td>\n",
       "      <td>70.768898</td>\n",
       "      <td>17.461540</td>\n",
       "      <td>70.832489</td>\n",
       "      <td>124.916433</td>\n",
       "      <td>1.637863</td>\n",
       "      <td>26.644653</td>\n",
       "    </tr>\n",
       "    <tr>\n",
       "      <th>std</th>\n",
       "      <td>5.760689</td>\n",
       "      <td>0.313827</td>\n",
       "      <td>7.690005</td>\n",
       "      <td>21.128773</td>\n",
       "      <td>7.338199</td>\n",
       "      <td>21.128940</td>\n",
       "      <td>51.941975</td>\n",
       "      <td>0.907988</td>\n",
       "      <td>16.585245</td>\n",
       "    </tr>\n",
       "    <tr>\n",
       "      <th>min</th>\n",
       "      <td>20.000000</td>\n",
       "      <td>2.500000</td>\n",
       "      <td>-30.902872</td>\n",
       "      <td>0.000000</td>\n",
       "      <td>0.010000</td>\n",
       "      <td>0.010000</td>\n",
       "      <td>10.000000</td>\n",
       "      <td>0.000000</td>\n",
       "      <td>0.000000</td>\n",
       "    </tr>\n",
       "    <tr>\n",
       "      <th>25%</th>\n",
       "      <td>25.000000</td>\n",
       "      <td>4.500000</td>\n",
       "      <td>12.933298</td>\n",
       "      <td>73.170283</td>\n",
       "      <td>12.986054</td>\n",
       "      <td>73.280000</td>\n",
       "      <td>90.000000</td>\n",
       "      <td>1.000000</td>\n",
       "      <td>15.000000</td>\n",
       "    </tr>\n",
       "    <tr>\n",
       "      <th>50%</th>\n",
       "      <td>30.000000</td>\n",
       "      <td>4.700000</td>\n",
       "      <td>18.554382</td>\n",
       "      <td>75.898497</td>\n",
       "      <td>18.633934</td>\n",
       "      <td>76.002471</td>\n",
       "      <td>125.000000</td>\n",
       "      <td>2.000000</td>\n",
       "      <td>25.000000</td>\n",
       "    </tr>\n",
       "    <tr>\n",
       "      <th>75%</th>\n",
       "      <td>35.000000</td>\n",
       "      <td>4.900000</td>\n",
       "      <td>22.732225</td>\n",
       "      <td>78.045359</td>\n",
       "      <td>22.785049</td>\n",
       "      <td>78.102309</td>\n",
       "      <td>160.000000</td>\n",
       "      <td>2.000000</td>\n",
       "      <td>40.000000</td>\n",
       "    </tr>\n",
       "    <tr>\n",
       "      <th>max</th>\n",
       "      <td>39.000000</td>\n",
       "      <td>5.000000</td>\n",
       "      <td>30.914057</td>\n",
       "      <td>88.433452</td>\n",
       "      <td>31.054057</td>\n",
       "      <td>88.563452</td>\n",
       "      <td>270.000000</td>\n",
       "      <td>4.000000</td>\n",
       "      <td>55.000000</td>\n",
       "    </tr>\n",
       "  </tbody>\n",
       "</table>\n",
       "</div>"
      ],
      "text/plain": [
       "          Agent_Age  Agent_Rating  Store_Latitude  Store_Longitude  \\\n",
       "count  43594.000000  43594.000000    43594.000000     43594.000000   \n",
       "mean      29.555719      4.635287       17.244769        70.768898   \n",
       "std        5.760689      0.313827        7.690005        21.128773   \n",
       "min       20.000000      2.500000      -30.902872         0.000000   \n",
       "25%       25.000000      4.500000       12.933298        73.170283   \n",
       "50%       30.000000      4.700000       18.554382        75.898497   \n",
       "75%       35.000000      4.900000       22.732225        78.045359   \n",
       "max       39.000000      5.000000       30.914057        88.433452   \n",
       "\n",
       "       Drop_Latitude  Drop_Longitude  Delivery_Time  Delivery_Time_Minutes  \\\n",
       "count   43594.000000    43594.000000   43594.000000           43594.000000   \n",
       "mean       17.461540       70.832489     124.916433               1.637863   \n",
       "std         7.338199       21.128940      51.941975               0.907988   \n",
       "min         0.010000        0.010000      10.000000               0.000000   \n",
       "25%        12.986054       73.280000      90.000000               1.000000   \n",
       "50%        18.633934       76.002471     125.000000               2.000000   \n",
       "75%        22.785049       78.102309     160.000000               2.000000   \n",
       "max        31.054057       88.563452     270.000000               4.000000   \n",
       "\n",
       "       Delivery_Time_Seconds  \n",
       "count           43594.000000  \n",
       "mean               26.644653  \n",
       "std                16.585245  \n",
       "min                 0.000000  \n",
       "25%                15.000000  \n",
       "50%                25.000000  \n",
       "75%                40.000000  \n",
       "max                55.000000  "
      ]
     },
     "execution_count": 19,
     "metadata": {},
     "output_type": "execute_result"
    }
   ],
   "source": [
    "# understanding the statistical information about the data\n",
    "df_cleaned.describe()"
   ]
  },
  {
   "cell_type": "code",
   "execution_count": 20,
   "id": "66208d99",
   "metadata": {},
   "outputs": [
    {
     "data": {
      "text/plain": [
       "0        False\n",
       "1        False\n",
       "2        False\n",
       "3        False\n",
       "4        False\n",
       "         ...  \n",
       "43734    False\n",
       "43735    False\n",
       "43736    False\n",
       "43737    False\n",
       "43738    False\n",
       "Length: 43739, dtype: bool"
      ]
     },
     "execution_count": 20,
     "metadata": {},
     "output_type": "execute_result"
    }
   ],
   "source": [
    "# Checking for Duplictes throught the columns\n",
    "\n",
    "df.duplicated()"
   ]
  },
  {
   "cell_type": "code",
   "execution_count": 21,
   "id": "bbf58926",
   "metadata": {},
   "outputs": [
    {
     "data": {
      "text/plain": [
       "0        False\n",
       "1        False\n",
       "2        False\n",
       "3        False\n",
       "4        False\n",
       "         ...  \n",
       "43734    False\n",
       "43735    False\n",
       "43736    False\n",
       "43737    False\n",
       "43738    False\n",
       "Length: 43739, dtype: bool"
      ]
     },
     "execution_count": 21,
     "metadata": {},
     "output_type": "execute_result"
    }
   ],
   "source": [
    "#Checking for Duplicates Order_id\n",
    "\n",
    "df.duplicated(subset =['Order_ID',])"
   ]
  },
  {
   "cell_type": "code",
   "execution_count": 22,
   "id": "37ad02a0",
   "metadata": {
    "scrolled": true
   },
   "outputs": [
    {
     "data": {
      "text/plain": [
       "2022-02     6982\n",
       "2022-03    30658\n",
       "2022-04     6099\n",
       "Freq: M, Name: Order_Date, dtype: int64"
      ]
     },
     "execution_count": 22,
     "metadata": {},
     "output_type": "execute_result"
    }
   ],
   "source": [
    "# Group by Year and Month and count occurrences\n",
    "\n",
    "# Convert 'Order_Date' to datetime format\n",
    "df['Order_Date'] = pd.to_datetime(df['Order_Date'])\n",
    "\n",
    "df['Order_Date'].dt.to_period('M').value_counts().sort_index()"
   ]
  },
  {
   "cell_type": "code",
   "execution_count": 23,
   "id": "090453d6",
   "metadata": {},
   "outputs": [
    {
     "data": {
      "text/plain": [
       "Electronics     2849\n",
       "Books           2824\n",
       "Jewelry         2802\n",
       "Toys            2781\n",
       "Skincare        2772\n",
       "Snacks          2770\n",
       "Outdoors        2747\n",
       "Apparel         2726\n",
       "Sports          2719\n",
       "Grocery         2691\n",
       "Pet Supplies    2690\n",
       "Home            2685\n",
       "Cosmetics       2677\n",
       "Kitchen         2673\n",
       "Clothing        2667\n",
       "Shoes           2666\n",
       "Name: Category, dtype: int64"
      ]
     },
     "execution_count": 23,
     "metadata": {},
     "output_type": "execute_result"
    }
   ],
   "source": [
    "# Category count to establish how many were sold for each category\n",
    "\n",
    "df[\"Category\"].value_counts()"
   ]
  },
  {
   "cell_type": "code",
   "execution_count": 24,
   "id": "5a83b84a",
   "metadata": {},
   "outputs": [
    {
     "name": "stdout",
     "output_type": "stream",
     "text": [
      "motorcycle     25486\n",
      "scooter        14590\n",
      "van             3518\n",
      "Name: Vehicle, dtype: int64\n"
     ]
    }
   ],
   "source": [
    "# Count occurrences of each vehicle type\n",
    "vehicle_counts = df_cleaned['Vehicle'].value_counts()\n",
    "\n",
    "# Display the counts\n",
    "print(vehicle_counts)\n"
   ]
  },
  {
   "cell_type": "code",
   "execution_count": 25,
   "id": "7094aa35",
   "metadata": {},
   "outputs": [
    {
     "data": {
      "image/png": "[encoded data removed]",
      "text/plain": [
       "<Figure size 864x432 with 1 Axes>"
      ]
     },
     "metadata": {
      "needs_background": "light"
     },
     "output_type": "display_data"
    }
   ],
   "source": [
    "# Group by Year-Month and count occurrences\n",
    "monthly_counts = df['Order_Date'].dt.to_period('M').value_counts().sort_index()\n",
    "\n",
    "# Convert the dictionary to a Pandas Series\n",
    "monthly_counts_series = pd.Series(monthly_counts)\n",
    "\n",
    "# Generate a list of colors\n",
    "num_bars = len(monthly_counts_series)\n",
    "colors = cm.viridis(np.linspace(0, 1, num_bars))  # Using the 'viridis' colormap\n",
    "\n",
    "# Plot the data as a bar chart with different colors\n",
    "plt.figure(figsize=(12, 6))\n",
    "monthly_counts_series.plot(kind='bar', color=colors)\n",
    "plt.title('Monthly Sales Counts')\n",
    "plt.xlabel('Month/year')\n",
    "plt.ylabel('Number of Orders')\n",
    "plt.xticks(rotation=45)\n",
    "plt.grid(axis='y', linestyle='--', alpha=0.7)\n",
    "plt.show()\n"
   ]
  },
  {
   "cell_type": "code",
   "execution_count": 26,
   "id": "6b268f75",
   "metadata": {
    "scrolled": true
   },
   "outputs": [
    {
     "data": {
      "image/png": "[encoded data removed]",
      "text/plain": [
       "<Figure size 864x720 with 1 Axes>"
      ]
     },
     "metadata": {
      "needs_background": "light"
     },
     "output_type": "display_data"
    }
   ],
   "source": [
    "# Count the number of orders by category\n",
    "df_category_order_count = df_sorted['Category'].value_counts().reset_index()\n",
    "df_category_order_count.columns = ['Category', 'Order_Count']\n",
    "\n",
    "# Set the number of categories\n",
    "num_categories = len(df_category_order_count['Category'].unique())\n",
    "\n",
    "# Generate a list of colors for each category\n",
    "cmap = plt.get_cmap('tab20')\n",
    "colors = cmap(np.linspace(0, 1, num_categories))\n",
    "\n",
    "# Create a color dictionary to map each category to a color\n",
    "color_dict = dict(zip(df_category_order_count['Category'].unique(), colors))\n",
    "\n",
    "# Plot the data as a horizontal bar chart with different colors for each category\n",
    "plt.figure(figsize=(12, 10))\n",
    "bars = plt.barh(df_category_order_count['Category'], df_category_order_count['Order_Count'], \n",
    "                color=[color_dict[cat] for cat in df_category_order_count['Category']])\n",
    "\n",
    "# Add labels and title\n",
    "plt.title('Categories by Order Count')\n",
    "plt.xlabel('Order Count')\n",
    "plt.ylabel('Category')\n",
    "plt.grid(axis='x', linestyle='--', alpha=0.7)\n",
    "\n",
    "# Display the plot\n",
    "plt.show()\n",
    "\n",
    "   "
   ]
  },
  {
   "cell_type": "code",
   "execution_count": 27,
   "id": "baa63506",
   "metadata": {
    "scrolled": true
   },
   "outputs": [
    {
     "data": {
      "image/png": "[encoded data removed]",
      "text/plain": [
       "<Figure size 864x432 with 1 Axes>"
      ]
     },
     "metadata": {
      "needs_background": "light"
     },
     "output_type": "display_data"
    }
   ],
   "source": [
    "import pandas as pd\n",
    "import matplotlib.pyplot as plt\n",
    "import seaborn as sns\n",
    "\n",
    "# Ensure you have the correct DataFrame\n",
    "df = df_cleaned.copy()  # Make a copy to avoid warnings\n",
    "\n",
    "# Convert 'Order_Date' to datetime format using .loc\n",
    "df.loc[:, 'Order_Date'] = pd.to_datetime(df['Order_Date'])\n",
    "\n",
    "# Filter data for the last 3 months\n",
    "end_date = df['Order_Date'].max()\n",
    "start_date = end_date - pd.DateOffset(months=3)\n",
    "df_filtered = df[(df['Order_Date'] >= start_date) & (df['Order_Date'] <= end_date)]\n",
    "\n",
    "# Convert 'Order_Time' to datetime format and then to minutes since midnight using .loc\n",
    "df_filtered.loc[:, 'Order_Time'] = pd.to_datetime(df_filtered['Order_Time'], format='%H:%M:%S').dt.time\n",
    "df_filtered.loc[:, 'Order_Time_Minutes'] = df_filtered['Order_Time'].apply(lambda x: x.hour * 60 + x.minute)\n",
    "\n",
    "# Plot Density Plot\n",
    "plt.figure(figsize=(12, 6))\n",
    "sns.kdeplot(df_filtered['Order_Time_Minutes'], bw_adjust=0.5, fill=True)\n",
    "plt.title('Density Plot of Order Times (Last 3 Months)')\n",
    "plt.xlabel('Order Time')\n",
    "plt.ylabel('Density')\n",
    "\n",
    "# Convert minutes since midnight to HH:MM format for x-axis\n",
    "xticks = plt.gca().get_xticks()\n",
    "xtick_labels = [f'{int(minute // 60):02}:{int(minute % 60):02}' for minute in xticks]\n",
    "plt.xticks(ticks=xticks, labels=xtick_labels, rotation=45)\n",
    "\n",
    "plt.grid(True)\n",
    "plt.tight_layout()\n",
    "plt.show()\n"
   ]
  },
  {
   "cell_type": "code",
   "execution_count": 28,
   "id": "70f0cd99",
   "metadata": {},
   "outputs": [
    {
     "data": {
      "image/png": "[encoded data removed]",
      "text/plain": [
       "<Figure size 720x432 with 1 Axes>"
      ]
     },
     "metadata": {
      "needs_background": "light"
     },
     "output_type": "display_data"
    }
   ],
   "source": [
    "\n",
    "plt.figure(figsize=(10, 6))\n",
    "plt.hist(df['Agent_Rating'], bins=20, color='purple', edgecolor='black')\n",
    "plt.title('Distribution of Agent Ratings')\n",
    "plt.xlabel('Agent Rating')\n",
    "plt.ylabel('Frequency')\n",
    "plt.grid(True)\n",
    "plt.show()\n"
   ]
  },
  {
   "cell_type": "code",
   "execution_count": 29,
   "id": "9de7120c",
   "metadata": {},
   "outputs": [
    {
     "data": {
      "image/png": "[encoded data removed]",
      "text/plain": [
       "<Figure size 720x432 with 1 Axes>"
      ]
     },
     "metadata": {
      "needs_background": "light"
     },
     "output_type": "display_data"
    }
   ],
   "source": [
    "plt.figure(figsize=(10, 6))\n",
    "plt.hist(df['Delivery_Time'], bins=30, color='orange', edgecolor='black')\n",
    "plt.title('Distribution of Delivery Time')\n",
    "plt.xlabel('Delivery Time (seconds)')\n",
    "plt.ylabel('Frequency')\n",
    "plt.grid(True)\n",
    "plt.show()\n",
    "\n"
   ]
  },
  {
   "cell_type": "code",
   "execution_count": 30,
   "id": "d6c49d5b",
   "metadata": {
    "scrolled": true
   },
   "outputs": [
    {
     "data": {
      "image/png": "[encoded data removed]",
      "text/plain": [
       "<Figure size 720x432 with 1 Axes>"
      ]
     },
     "metadata": {
      "needs_background": "light"
     },
     "output_type": "display_data"
    }
   ],
   "source": [
    "# Plot Delivery Time vs. Agent Age\n",
    "plt.figure(figsize=(10, 6))\n",
    "\n",
    "# Scatter plot with increased marker size\n",
    "plt.scatter(df_cleaned['Agent_Age'], df_cleaned['Delivery_Time'], alpha=0.5, color='green', s=10)\n",
    "\n",
    "# Set title and labels\n",
    "plt.title('Delivery Time vs. Agent Age')\n",
    "plt.xlabel('Agent Age')\n",
    "plt.ylabel('Delivery Time (seconds)')\n",
    "\n",
    "# Set x-axis limits to cover the age range from 15 to 50\n",
    "plt.xlim(15, 50)\n",
    "\n",
    "# Add grid\n",
    "plt.grid(True)\n",
    "\n",
    "# Show plot\n",
    "plt.show()\n",
    "\n"
   ]
  },
  {
   "cell_type": "code",
   "execution_count": 32,
   "id": "6307232b",
   "metadata": {},
   "outputs": [
    {
     "data": {
      "image/png": "[encoded data removed]",
      "text/plain": [
       "<Figure size 720x432 with 1 Axes>"
      ]
     },
     "metadata": {
      "needs_background": "light"
     },
     "output_type": "display_data"
    }
   ],
   "source": [
    "# Calculate the correlation coefficient\n",
    "correlation_coefficient = df_cleaned['Agent_Age'].corr(df_cleaned['Delivery_Time'])\n",
    "\n",
    "# Set the figure size\n",
    "plt.figure(figsize=(10, 6))\n",
    "\n",
    "# Scatter plot with regression line\n",
    "sns.regplot(x='Agent_Age', y='Delivery_Time', data=df_cleaned, scatter_kws={'alpha':0.5, 'color':'green', 's':10}, line_kws={'color':'red'})\n",
    "\n",
    "# Set title and labels\n",
    "plt.title(f'Correlation between Agent Age and Delivery Time: {correlation_coefficient:.2f}')\n",
    "plt.xlabel('Agent Age')\n",
    "plt.ylabel('Delivery Time (seconds)')\n",
    "\n",
    "# Set x-axis limits to cover the age range from 15 to 50\n",
    "plt.xlim(15, 50)\n",
    "\n",
    "# Add grid\n",
    "plt.grid(True)\n",
    "\n",
    "# Show plot\n",
    "plt.show()"
   ]
  },
  {
   "cell_type": "code",
   "execution_count": 33,
   "id": "c0b81985",
   "metadata": {},
   "outputs": [
    {
     "data": {
      "image/png": "[encoded data removed]",
      "text/plain": [
       "<Figure size 720x432 with 1 Axes>"
      ]
     },
     "metadata": {
      "needs_background": "light"
     },
     "output_type": "display_data"
    }
   ],
   "source": [
    "# Calculate the correlation coefficient between Agent Age and Agent Rating\n",
    "correlation_age_rating = df_cleaned['Agent_Age'].corr(df_cleaned['Agent_Rating'])\n",
    "\n",
    "# Set the figure size\n",
    "plt.figure(figsize=(10, 6))\n",
    "\n",
    "# Scatter plot with regression line\n",
    "sns.regplot(x='Agent_Age', y='Agent_Rating', data=df_cleaned, scatter_kws={'alpha':0.5, 'color':'blue', 's':10}, line_kws={'color':'red'})\n",
    "\n",
    "# Set title and labels\n",
    "plt.title(f'Correlation between Agent Age and Agent Rating: {correlation_age_rating:.2f}')\n",
    "plt.xlabel('Agent Age')\n",
    "plt.ylabel('Agent Rating')\n",
    "\n",
    "# Set x-axis limits (if needed)\n",
    "plt.xlim(df_cleaned['Agent_Age'].min(), df_cleaned['Agent_Age'].max())\n",
    "\n",
    "# Add grid\n",
    "plt.grid(True)\n",
    "\n",
    "# Show plot\n",
    "plt.show()"
   ]
  }
 ],
 "metadata": {
  "kernelspec": {
   "display_name": "base",
   "language": "python",
   "name": "python3"
  },
  "language_info": {
   "codemirror_mode": {
    "name": "ipython",
    "version": 3
   },
   "file_extension": ".py",
   "mimetype": "text/x-python",
   "name": "python",
   "nbconvert_exporter": "python",
   "pygments_lexer": "ipython3",
   "version": "3.9.7"
  }
 },
 "nbformat": 4,
 "nbformat_minor": 5
}
